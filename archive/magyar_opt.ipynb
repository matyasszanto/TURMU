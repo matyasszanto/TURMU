{
 "cells": [
  {
   "cell_type": "code",
   "execution_count": 29,
   "metadata": {
    "collapsed": true,
    "pycharm": {
     "name": "#%%\n"
    }
   },
   "outputs": [],
   "source": [
    "import numpy as np\n",
    "import math\n",
    "from scipy.optimize import linear_sum_assignment as magyar\n",
    "\n",
    "import matplotlib.pyplot as plt"
   ]
  },
  {
   "cell_type": "code",
   "execution_count": 81,
   "outputs": [],
   "source": [
    "a = np.array([1, 2, 2, 4, 5])\n",
    "b = np.array([1, 3, 2, 4, 5])\n",
    "c = np.array([0, 1, 4, 5, 6])\n",
    "means = np.array([a, c, b])\n",
    "\n",
    "candidate_1 = np.array([1, 2, 2, 4, 5])\n",
    "candidate_2 = np.array([1, 3, 2, 4, 5])\n",
    "candidate_3 = np.array([0, 1, 4, 5, 6])\n",
    "candidate_4 = np.array([0, 1.1, 4, 5, 6])\n",
    "candidates = np.array([candidate_1, candidate_2, candidate_4, candidate_3])"
   ],
   "metadata": {
    "collapsed": false,
    "pycharm": {
     "name": "#%%\n"
    }
   }
  },
  {
   "cell_type": "code",
   "execution_count": 57,
   "outputs": [],
   "source": [
    "def calculate_rbf(point_1, point_2, sigma=1):\n",
    "    result = 0\n",
    "    for i_rbf in range(point_1.shape[0]):\n",
    "        result += math.exp(-((point_1[i_rbf] - point_2[i_rbf])**2)/(2*sigma**2))\n",
    "    return result"
   ],
   "metadata": {
    "collapsed": false,
    "pycharm": {
     "name": "#%%\n"
    }
   }
  },
  {
   "cell_type": "code",
   "execution_count": 38,
   "outputs": [
    {
     "data": {
      "text/plain": "<Figure size 432x288 with 1 Axes>",
      "image/png": "[encoded data removed]"
     },
     "metadata": {
      "needs_background": "light"
     },
     "output_type": "display_data"
    }
   ],
   "source": [
    "x = np.linspace(-5, 5, 100)\n",
    "y = []\n",
    "for val in x:\n",
    "    y.append(calculate_rbf(np.zeros(2), np.array([0, val]), 0.2))\n",
    "\n",
    "fig, ax = plt.subplots()\n",
    "ax.plot(x, y)\n",
    "plt.show()"
   ],
   "metadata": {
    "collapsed": false,
    "pycharm": {
     "name": "#%%\n"
    }
   }
  },
  {
   "cell_type": "code",
   "execution_count": 86,
   "outputs": [],
   "source": [
    "# cost matrix calculation\n",
    "def calculate_cost_of_observation(map_points, candidates, sigma=1):\n",
    "    cost = np.empty((map_points.shape[0], candidates.shape[0])) # map points(rows) x candidate points(columns)\n",
    "    for i, map_point in enumerate(map_points):\n",
    "        for j, candidate_point in enumerate(candidates):\n",
    "            cost[i][j] = -calculate_rbf(candidate_point, map_point, sigma) #negative\n",
    "    print(cost)\n",
    "    return cost"
   ],
   "metadata": {
    "collapsed": false,
    "pycharm": {
     "name": "#%%\n"
    }
   }
  },
  {
   "cell_type": "code",
   "execution_count": 87,
   "outputs": [
    {
     "name": "stdout",
     "output_type": "stream",
     "text": [
      "[[-5.         -4.60653066 -2.62190407 -2.56145792]\n",
      " [-2.56145792 -2.09026255 -4.99501248 -5.        ]\n",
      " [-4.60653066 -5.         -2.11940172 -2.09026255]]\n"
     ]
    },
    {
     "data": {
      "text/plain": "(array([0, 1, 2]), array([0, 3, 1]))"
     },
     "execution_count": 87,
     "metadata": {},
     "output_type": "execute_result"
    }
   ],
   "source": [
    "magyar(calculate_cost_of_observation(means, candidates))"
   ],
   "metadata": {
    "collapsed": false,
    "pycharm": {
     "name": "#%%\n"
    }
   }
  }
 ],
 "metadata": {
  "kernelspec": {
   "display_name": "Python 3",
   "language": "python",
   "name": "python3"
  },
  "language_info": {
   "codemirror_mode": {
    "name": "ipython",
    "version": 2
   },
   "file_extension": ".py",
   "mimetype": "text/x-python",
   "name": "python",
   "nbconvert_exporter": "python",
   "pygments_lexer": "ipython2",
   "version": "2.7.6"
  }
 },
 "nbformat": 4,
 "nbformat_minor": 0
}